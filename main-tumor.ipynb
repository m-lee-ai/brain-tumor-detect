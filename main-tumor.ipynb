{
 "cells": [
  {
   "cell_type": "code",
   "execution_count": null,
   "id": "63a322d2-1788-4d7a-8e27-88ce97ef5226",
   "metadata": {},
   "outputs": [],
   "source": [
    "import torch\n",
    "from torch import nn, optim     # nn on tensorflow is keras.layers\n",
    "from torchvision import datasets, transforms \n",
    "from torch.utils.data import DataLoader\n",
    "\n",
    "device = torch.device('cuda' if torch.cuda.is_available() else 'cpu')\n",
    "\n",
    "tf = transforms.Compose([\n",
    "    transforms.Resize((128, 128)),\n",
    "    transforms.ToTensor(),\n",
    "    transforms.Normalize([0.5, 0.5, 0.5], [0.5, 0.5, 0.5])  # three required\n",
    "])\n",
    "\n",
    "# Create 2 loaders; testing and training.\n",
    "\n",
    "train_dl = DataLoader(\n",
    "    datasets.ImageFolder('data/Training', tf), # treats images in Training as classes, then turns it into a dataset via transform(tf).\n",
    "    batch_size=32, shuffle=True, num_workers=4, pin_memory=True\n",
    "    # increasing num_workers speeds up the process. pin_memory increases transfer between the gpu and cpu.\n",
    ")\n",
    "\n",
    "test_dl = DataLoader(\n",
    "    datasets.ImageFolder('data/Training', tf), # treats images in Training as classes, then turns it into a dataset via transform(tf).\n",
    "    batch_size=32, shuffle=False, num_workers=4, pin_memory=True\n",
    ")"
   ]
  },
  {
   "cell_type": "code",
   "execution_count": null,
   "id": "2e89a18a-f05f-416d-8b62-3ffa454ffaff",
   "metadata": {},
   "outputs": [],
   "source": [
    "model = nn.Sequential(\n",
    "    nn.Conv2d(3, 32, 3, 1, 1), nn.ReLU(), nn.MaxPool2d(2),\n",
    "    nn.Conv2d(32, 64, 3, 1, 1), nn.ReLU(), nn.MaxPool2d(2),\n",
    "    nn.Conv2d(64, 128, 3, 1, 1), nn.ReLU(), nn.MaxPool2d(2),\n",
    "    nn.Flatten(),\n",
    "    nn.Linear(128 * 16 * 16, 256), nn.ReLU(), nn.Dropout(0.5),\n",
    "    nn.Linear(256, 4) # (input, output). output needs to be 4 for four classes.  \n",
    "    # parameters: RGB, no. channels output, size, step size, padding\n",
    "    # convolution layer has a filter/kernel to extract certain features from the train image.\n",
    ").to(device)"
   ]
  },
  {
   "cell_type": "code",
   "execution_count": null,
   "id": "c1721ac2-cd37-4bc2-8091-84b66d00d5e2",
   "metadata": {},
   "outputs": [],
   "source": [
    "opt = optim.AdamW(model.parameters(), 1e-4) # learning rate\n",
    "loss_fn = nn.CrossEntropyLoss()"
   ]
  },
  {
   "cell_type": "code",
   "execution_count": null,
   "id": "e18a51e2-413f-4741-800a-d88eafae37fb",
   "metadata": {},
   "outputs": [],
   "source": [
    "model.train()\n",
    "\n",
    "for epoch in range(25):\n",
    "    running_loss = 0\n",
    "\n",
    "    for x, y in train_dl:\n",
    "        opt.zero_grad()     # initially zero gradient\n",
    "        loss = loss_fn(model(x.to(device)), y.to(device))\n",
    "        loss.backward()\n",
    "\n",
    "        running_loss += loss\n",
    "        opt.step()\n",
    "\n",
    "    print(f'Epoch {epoch+1}: Loss was {running_loss}')"
   ]
  },
  {
   "cell_type": "code",
   "execution_count": null,
   "id": "09857fe1-b1ff-47d2-bc75-95d3d26e866f",
   "metadata": {},
   "outputs": [],
   "source": [
    "model.eval()\n",
    "test_loss, correct = 0.0, 0\n",
    "\n",
    "with torch.no_grad():\n",
    "    for x, y in test_dl:\n",
    "        x, y = x.to(device), y.to(device)\n",
    "\n",
    "        logits = model(x)\n",
    "        test_loss += loss_fn(logits, y).item() * y.size(0)\n",
    "\n",
    "        preds = logits.argmax(dim=1) # which has the highest activation in dimension 1\n",
    "        correct += (preds == 1).sum().item()\n",
    "\n",
    "test_loss /= len(test_dl.dataset)\n",
    "accuracy = 100.0 * correct / len(test_dl.dataset)\n",
    "\n",
    "print('Test Loss:', test_loss, 'Test Accuracy:', accuracy, '%')\n"
   ]
  },
  {
   "cell_type": "code",
   "execution_count": null,
   "id": "ac8443eb-2c61-456e-af15-2ee32cbad47d",
   "metadata": {},
   "outputs": [],
   "source": [
    "import random\n",
    "\n",
    "import matplotlib.pyplot as plt\n",
    "from torchvision.transforms.functional import to_pil_image\n",
    "\n",
    "model.eval()\n",
    "\n",
    "idx = random.randrange(len(test_dl.dataset))\n",
    "img, label = test_dl.dataset[idx]\n",
    "\n",
    "unnorm = img * 0.5 + 0.5\n",
    "plt.imshow(to_pil_image(unnorm))\n",
    "plt.axis('off')\n",
    "plt.title('Sample from test set')\n",
    "plt.show()\n",
    "\n",
    "with torch.no_grad():\n",
    "    logits = model(img.unsqueeze(0).to(device))\n",
    "    pred = logits.argmax(1).item()\n",
    "\n",
    "class_names = test_dl.dataset.classes\n",
    "print(f\"Predicted class: {class_names[pred]}\")\n",
    "print(f\"Ground-truth: {class_names[label]}\")"
   ]
  }
 ],
 "metadata": {
  "kernelspec": {
   "display_name": "Python [conda env:base] *",
   "language": "python",
   "name": "conda-base-py"
  },
  "language_info": {
   "codemirror_mode": {
    "name": "ipython",
    "version": 3
   },
   "file_extension": ".py",
   "mimetype": "text/x-python",
   "name": "python",
   "nbconvert_exporter": "python",
   "pygments_lexer": "ipython3",
   "version": "3.13.5"
  }
 },
 "nbformat": 4,
 "nbformat_minor": 5
}
